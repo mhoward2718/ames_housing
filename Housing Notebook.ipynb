{
 "cells": [
  {
   "cell_type": "markdown",
   "id": "8845c44e-b7bc-4b20-8086-cb754c4476cf",
   "metadata": {},
   "source": [
    "# Regression with Ames housing data"
   ]
  },
  {
   "cell_type": "code",
   "execution_count": null,
   "id": "50abd3d4-f0c8-438b-9b81-5ab5923a0aef",
   "metadata": {},
   "outputs": [],
   "source": []
  }
 ],
 "metadata": {
  "kernelspec": {
   "display_name": "Python 3 (ipykernel)",
   "language": "python",
   "name": "python3"
  },
  "language_info": {
   "codemirror_mode": {
    "name": "ipython",
    "version": 3
   },
   "file_extension": ".py",
   "mimetype": "text/x-python",
   "name": "python",
   "nbconvert_exporter": "python",
   "pygments_lexer": "ipython3",
   "version": "3.8.11"
  }
 },
 "nbformat": 4,
 "nbformat_minor": 5
}
